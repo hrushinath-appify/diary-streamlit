{
 "cells": [
  {
   "cell_type": "code",
   "execution_count": 7,
   "id": "09cdbac4-101c-4ef2-816a-4201cb5b3fd9",
   "metadata": {},
   "outputs": [
    {
     "ename": "ValueError",
     "evalue": "The default Firebase app already exists. This means you called initialize_app() more than once without providing an app name as the second argument. In most cases you only need to call initialize_app() once. But if you do want to initialize multiple apps, pass a second argument to initialize_app() to give each app a unique name.",
     "output_type": "error",
     "traceback": [
      "\u001b[1;31m---------------------------------------------------------------------------\u001b[0m",
      "\u001b[1;31mValueError\u001b[0m                                Traceback (most recent call last)",
      "Cell \u001b[1;32mIn[7], line 9\u001b[0m\n\u001b[0;32m      7\u001b[0m \u001b[38;5;66;03m# Initialize Firebase app (replace 'firebase_credentials.json' with your credentials file)\u001b[39;00m\n\u001b[0;32m      8\u001b[0m cred \u001b[38;5;241m=\u001b[39m credentials\u001b[38;5;241m.\u001b[39mCertificate(\u001b[38;5;124m\"\u001b[39m\u001b[38;5;124mfirebase_credentials.json\u001b[39m\u001b[38;5;124m\"\u001b[39m)\n\u001b[1;32m----> 9\u001b[0m firebase_admin\u001b[38;5;241m.\u001b[39minitialize_app(cred)\n\u001b[0;32m     11\u001b[0m \u001b[38;5;66;03m# Get Firestore client\u001b[39;00m\n\u001b[0;32m     12\u001b[0m db \u001b[38;5;241m=\u001b[39m firestore\u001b[38;5;241m.\u001b[39mclient()\n",
      "File \u001b[1;32m~\\anaconda3\\envs\\notebook\\Lib\\site-packages\\firebase_admin\\__init__.py:74\u001b[0m, in \u001b[0;36minitialize_app\u001b[1;34m(credential, options, name)\u001b[0m\n\u001b[0;32m     71\u001b[0m         \u001b[38;5;28;01mreturn\u001b[39;00m app\n\u001b[0;32m     73\u001b[0m \u001b[38;5;28;01mif\u001b[39;00m name \u001b[38;5;241m==\u001b[39m _DEFAULT_APP_NAME:\n\u001b[1;32m---> 74\u001b[0m     \u001b[38;5;28;01mraise\u001b[39;00m \u001b[38;5;167;01mValueError\u001b[39;00m((\n\u001b[0;32m     75\u001b[0m         \u001b[38;5;124m'\u001b[39m\u001b[38;5;124mThe default Firebase app already exists. This means you called \u001b[39m\u001b[38;5;124m'\u001b[39m\n\u001b[0;32m     76\u001b[0m         \u001b[38;5;124m'\u001b[39m\u001b[38;5;124minitialize_app() more than once without providing an app name as \u001b[39m\u001b[38;5;124m'\u001b[39m\n\u001b[0;32m     77\u001b[0m         \u001b[38;5;124m'\u001b[39m\u001b[38;5;124mthe second argument. In most cases you only need to call \u001b[39m\u001b[38;5;124m'\u001b[39m\n\u001b[0;32m     78\u001b[0m         \u001b[38;5;124m'\u001b[39m\u001b[38;5;124minitialize_app() once. But if you do want to initialize multiple \u001b[39m\u001b[38;5;124m'\u001b[39m\n\u001b[0;32m     79\u001b[0m         \u001b[38;5;124m'\u001b[39m\u001b[38;5;124mapps, pass a second argument to initialize_app() to give each app \u001b[39m\u001b[38;5;124m'\u001b[39m\n\u001b[0;32m     80\u001b[0m         \u001b[38;5;124m'\u001b[39m\u001b[38;5;124ma unique name.\u001b[39m\u001b[38;5;124m'\u001b[39m))\n\u001b[0;32m     82\u001b[0m \u001b[38;5;28;01mraise\u001b[39;00m \u001b[38;5;167;01mValueError\u001b[39;00m((\n\u001b[0;32m     83\u001b[0m     \u001b[38;5;124m'\u001b[39m\u001b[38;5;124mFirebase app named \u001b[39m\u001b[38;5;124m\"\u001b[39m\u001b[38;5;132;01m{0}\u001b[39;00m\u001b[38;5;124m\"\u001b[39m\u001b[38;5;124m already exists. This means you called \u001b[39m\u001b[38;5;124m'\u001b[39m\n\u001b[0;32m     84\u001b[0m     \u001b[38;5;124m'\u001b[39m\u001b[38;5;124minitialize_app() more than once with the same app name as the \u001b[39m\u001b[38;5;124m'\u001b[39m\n\u001b[0;32m     85\u001b[0m     \u001b[38;5;124m'\u001b[39m\u001b[38;5;124msecond argument. Make sure you provide a unique name every time \u001b[39m\u001b[38;5;124m'\u001b[39m\n\u001b[0;32m     86\u001b[0m     \u001b[38;5;124m'\u001b[39m\u001b[38;5;124myou call initialize_app().\u001b[39m\u001b[38;5;124m'\u001b[39m)\u001b[38;5;241m.\u001b[39mformat(name))\n",
      "\u001b[1;31mValueError\u001b[0m: The default Firebase app already exists. This means you called initialize_app() more than once without providing an app name as the second argument. In most cases you only need to call initialize_app() once. But if you do want to initialize multiple apps, pass a second argument to initialize_app() to give each app a unique name."
     ]
    }
   ],
   "source": [
    "# Import necessary Firebase Admin modules\n",
    "import firebase_admin\n",
    "from firebase_admin import credentials\n",
    "from firebase_admin import firestore\n",
    "import datetime\n",
    "\n",
    "# Initialize Firebase app (replace 'firebase_credentials.json' with your credentials file)\n",
    "cred = credentials.Certificate(\"firebase_credentials.json\")\n",
    "firebase_admin.initialize_app(cred)\n",
    "\n",
    "# Get Firestore client\n",
    "db = firestore.client()"
   ]
  },
  {
   "cell_type": "code",
   "execution_count": 10,
   "id": "63eb2f26-1a99-4ba8-b8c1-b91456a76504",
   "metadata": {},
   "outputs": [],
   "source": [
    "# Function to insert data with user_name, text, and timestamp\n",
    "def insert_data(user_name, text):\n",
    "    # Get current timestamp\n",
    "    timestamp = datetime.datetime.now()\n",
    "    \n",
    "    # Reference to Firestore collection\n",
    "    doc_ref = db.collection(u'entries').document(user_name)\n",
    "    \n",
    "    # Set data with user_name, text, and timestamp\n",
    "    doc_ref.set({\n",
    "        u'user_name': user_name,\n",
    "        u'text': text,\n",
    "        u'timestamp': timestamp\n",
    "    })\n",
    "    print(f\"Data for {user_name} inserted successfully!\")\n",
    "\n",
    "# Function to retrieve text and timestamp by user_name\n",
    "def retrieve_data(user_name):\n",
    "    # Reference to Firestore document based on user_name\n",
    "    doc_ref = db.collection(u'entries').document(user_name)\n",
    "    \n",
    "    # Get document snapshot\n",
    "    doc = doc_ref.get()\n",
    "    \n",
    "    # Check if the document exists\n",
    "    if doc.exists:\n",
    "        data = doc.to_dict()\n",
    "        print(f\"Text: {data['text']}\\nTimestamp: {data['timestamp']}\")\n",
    "    else:\n",
    "        print(f\"No data found for user: {user_name}\")"
   ]
  },
  {
   "cell_type": "code",
   "execution_count": 12,
   "id": "8c7341db-107a-4c4c-b464-6cf6aa32b0cd",
   "metadata": {},
   "outputs": [
    {
     "name": "stdout",
     "output_type": "stream",
     "text": [
      "Data for Hrushi inserted successfully!\n",
      "Text: This is a sample text for John Doe.\n",
      "Timestamp: 2025-03-12 23:04:01.183692+00:00\n"
     ]
    }
   ],
   "source": [
    "# Example usage:\n",
    "# Insert data (You can change these values)\n",
    "insert_data(\"Hrushi\", \"This is a sample text for Rishi.\")\n",
    "\n",
    "# Retrieve data based on user_name\n",
    "retrieve_data(\"john_doe\")"
   ]
  },
  {
   "cell_type": "code",
   "execution_count": 13,
   "id": "517109f5-2ffd-40b8-b2e1-eb25c1994b50",
   "metadata": {},
   "outputs": [],
   "source": [
    "def test_firestore_connection():\n",
    "    \"\"\"Check if Firestore connection is working.\"\"\"\n",
    "    try:\n",
    "        doc_ref = db.collection(\"test\").document(\"connection_test\")\n",
    "        doc_ref.set({\"message\": \"Firestore is connected!\"})\n",
    "        print(\"✅ Firestore connection is successful!\")\n",
    "    except Exception as e:\n",
    "        print(f\"❌ Firestore connection failed: {e}\")\n"
   ]
  },
  {
   "cell_type": "code",
   "execution_count": null,
   "id": "82a26816-69bd-48f9-b163-5f4617b872a4",
   "metadata": {},
   "outputs": [],
   "source": []
  }
 ],
 "metadata": {
  "kernelspec": {
   "display_name": "Python 3 (ipykernel)",
   "language": "python",
   "name": "python3"
  },
  "language_info": {
   "codemirror_mode": {
    "name": "ipython",
    "version": 3
   },
   "file_extension": ".py",
   "mimetype": "text/x-python",
   "name": "python",
   "nbconvert_exporter": "python",
   "pygments_lexer": "ipython3",
   "version": "3.12.9"
  }
 },
 "nbformat": 4,
 "nbformat_minor": 5
}
